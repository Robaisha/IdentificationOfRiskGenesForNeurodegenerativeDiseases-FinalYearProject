{
  "cells": [
    {
      "cell_type": "code",
      "execution_count": null,
      "metadata": {
        "colab": {
          "base_uri": "https://localhost:8080/"
        },
        "id": "hTYiKyktP8kA",
        "outputId": "61335720-79e4-4207-a3a9-2f5d33b5e083"
      },
      "outputs": [
        {
          "output_type": "stream",
          "name": "stdout",
          "text": [
            "Model Accuracy: 0.8182\n",
            "Recall: 0.8182\n",
            "Precision: 0.8167\n",
            "F1 Score: 0.8169\n",
            "Top 10 Hub Genes by Feature Importance:\n",
            "Age             0.174338\n",
            "ILMN_1651799    0.064604\n",
            "ILMN_1651699    0.045618\n",
            "ILMN_1651358    0.029579\n",
            "ILMN_1651557    0.025893\n",
            "ILMN_1651719    0.020764\n",
            "ILMN_1651433    0.020287\n",
            "ILMN_1651339    0.020227\n",
            "ILMN_1651817    0.019007\n",
            "ILMN_1651715    0.016023\n",
            "dtype: float64\n"
          ]
        }
      ],
      "source": [
        "from imblearn.over_sampling import SMOTE\n",
        "from sklearn.feature_selection import RFECV\n",
        "from sklearn.ensemble import GradientBoostingClassifier, VotingClassifier\n",
        "from sklearn.linear_model import LogisticRegression\n",
        "from sklearn.svm import SVC\n",
        "from sklearn.preprocessing import StandardScaler\n",
        "from sklearn.impute import SimpleImputer\n",
        "from sklearn.model_selection import train_test_split, StratifiedKFold\n",
        "from sklearn.metrics import accuracy_score, recall_score, precision_score, f1_score\n",
        "import pandas as pd\n",
        "\n",
        "# Load data\n",
        "data = 'data_set.csv'\n",
        "df = pd.read_csv(data, header=0)\n",
        "X = df.drop(['ID_REF', '!Sample_source_name_ch1', 'Accession', 'Tissue Group', 'Tissue Group ID', 'Gender', 'Individual', 'Tissue', 'Disease state'], axis=1)\n",
        "y = df['Disease state']\n",
        "\n",
        "# Impute missing values\n",
        "imputer = SimpleImputer(strategy='median')\n",
        "X_imputed = imputer.fit_transform(X)\n",
        "X = pd.DataFrame(X_imputed, columns=X.columns)  # Convert back to DataFrame to keep column names\n",
        "\n",
        "# Data balancing with SMOTE\n",
        "smote = SMOTE(random_state=42)\n",
        "X_resampled, y_resampled = smote.fit_resample(X, y)\n",
        "\n",
        "# Train-test split\n",
        "X_train, X_test, y_train, y_test = train_test_split(X_resampled, y_resampled, test_size=0.2, random_state=42)\n",
        "\n",
        "# Feature selection using RFECV with GBM\n",
        "gbm_model = GradientBoostingClassifier(random_state=42)\n",
        "rfecv = RFECV(estimator=gbm_model, step=1, cv=StratifiedKFold(5), scoring='accuracy')\n",
        "X_train_selected = rfecv.fit_transform(X_train, y_train)\n",
        "X_test_selected = rfecv.transform(X_test)\n",
        "\n",
        "# Feature Importances and Hub Genes\n",
        "gbm_model.fit(X_train_selected, y_train)  # Ensure the GBM model is refit for feature importance extraction\n",
        "feature_importances = pd.Series(gbm_model.feature_importances_, index=X.columns[rfecv.support_]).sort_values(ascending=False)\n",
        "\n",
        "# Ensemble model using GBM as a base classifier\n",
        "lr = LogisticRegression(max_iter=1000)\n",
        "svm = SVC(probability=True)\n",
        "ensemble = VotingClassifier(estimators=[('lr', lr), ('gbm', gbm_model), ('svm', svm)], voting='soft')\n",
        "ensemble.fit(X_train_selected, y_train)\n",
        "\n",
        "# Predict\n",
        "y_pred = ensemble.predict(X_test_selected)\n",
        "\n",
        "# Calculate evaluation metrics\n",
        "accuracy = accuracy_score(y_test, y_pred)\n",
        "recall = recall_score(y_test, y_pred, average='weighted')\n",
        "precision = precision_score(y_test, y_pred, average='weighted')\n",
        "f1 = f1_score(y_test, y_pred, average='weighted')\n",
        "\n",
        "# Print results\n",
        "print(f'Model Accuracy: {accuracy:.4f}')\n",
        "print(f'Recall: {recall:.4f}')\n",
        "print(f'Precision: {precision:.4f}')\n",
        "print(f'F1 Score: {f1:.4f}')\n",
        "print('Top 10 Hub Genes by Feature Importance:')\n",
        "print(feature_importances.head(10))\n"
      ]
    }
  ],
  "metadata": {
    "colab": {
      "provenance": []
    },
    "kernelspec": {
      "display_name": "Python 3",
      "name": "python3"
    },
    "language_info": {
      "name": "python"
    }
  },
  "nbformat": 4,
  "nbformat_minor": 0
}