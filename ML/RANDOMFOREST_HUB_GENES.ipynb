{
  "nbformat": 4,
  "nbformat_minor": 0,
  "metadata": {
    "colab": {
      "provenance": []
    },
    "kernelspec": {
      "name": "python3",
      "display_name": "Python 3"
    },
    "language_info": {
      "name": "python"
    }
  },
  "cells": [
    {
      "cell_type": "code",
      "execution_count": null,
      "metadata": {
        "colab": {
          "base_uri": "https://localhost:8080/"
        },
        "id": "IF29GlfOCfAZ",
        "outputId": "aa310d25-fdb5-47d6-8589-018723d8b92b"
      },
      "outputs": [
        {
          "output_type": "stream",
          "name": "stdout",
          "text": [
            "Model Accuracy: 0.8182\n",
            "Recall: 0.8182\n",
            "Precision: 0.8179\n",
            "F1 Score: 0.8171\n",
            "Top 10 Hub Genes by Feature Importance:\n",
            "Age             0.045923\n",
            "ILMN_1651799    0.023760\n",
            "ILMN_1651254    0.018072\n",
            "ILMN_1651557    0.016786\n",
            "ILMN_1651569    0.012888\n",
            "ILMN_1651699    0.012462\n",
            "ILMN_1652128    0.011409\n",
            "ILMN_1652412    0.011405\n",
            "ILMN_1651715    0.010438\n",
            "ILMN_1652368    0.009901\n",
            "dtype: float64\n"
          ]
        }
      ],
      "source": [
        "from imblearn.over_sampling import SMOTE\n",
        "from sklearn.feature_selection import RFECV\n",
        "from sklearn.ensemble import RandomForestClassifier, VotingClassifier\n",
        "from sklearn.linear_model import LogisticRegression\n",
        "from sklearn.svm import SVC\n",
        "from sklearn.preprocessing import StandardScaler\n",
        "from sklearn.impute import SimpleImputer\n",
        "from sklearn.model_selection import train_test_split, StratifiedKFold\n",
        "from sklearn.metrics import accuracy_score, recall_score, precision_score, f1_score\n",
        "import pandas as pd\n",
        "\n",
        "# Load data\n",
        "data = 'data_set.csv'\n",
        "df = pd.read_csv(data, header=0)\n",
        "X = df.drop(['ID_REF', '!Sample_source_name_ch1', 'Accession', 'Tissue Group', 'Tissue Group ID', 'Gender', 'Individual', 'Tissue', 'Disease state'], axis=1)\n",
        "y = df['Disease state']\n",
        "\n",
        "# Impute missing values\n",
        "imputer = SimpleImputer(strategy='median')\n",
        "X_imputed = imputer.fit_transform(X)\n",
        "X = pd.DataFrame(X_imputed, columns=X.columns)  # Convert back to DataFrame to keep column names\n",
        "\n",
        "# Data balancing with SMOTE\n",
        "smote = SMOTE(random_state=42)\n",
        "X_resampled, y_resampled = smote.fit_resample(X, y)\n",
        "\n",
        "# Train-test split\n",
        "X_train, X_test, y_train, y_test = train_test_split(X_resampled, y_resampled, test_size=0.2, random_state=42)\n",
        "\n",
        "# Feature selection using RFECV\n",
        "model = RandomForestClassifier(random_state=42)\n",
        "rfecv = RFECV(estimator=model, step=1, cv=StratifiedKFold(5), scoring='accuracy')\n",
        "X_train_selected = rfecv.fit_transform(X_train, y_train)\n",
        "X_test_selected = rfecv.transform(X_test)\n",
        "\n",
        "# Feature Importances and Hub Genes\n",
        "model.fit(X_train_selected, y_train)  # Ensure the model is refit for feature importance extraction\n",
        "feature_importances = pd.Series(model.feature_importances_, index=X.columns[rfecv.support_]).sort_values(ascending=False)\n",
        "\n",
        "# Ensemble model\n",
        "lr = LogisticRegression(max_iter=1000)\n",
        "svm = SVC(probability=True)\n",
        "ensemble = VotingClassifier(estimators=[('lr', lr), ('rf', model), ('svm', svm)], voting='soft')\n",
        "ensemble.fit(X_train_selected, y_train)\n",
        "\n",
        "# Predict\n",
        "y_pred = ensemble.predict(X_test_selected)\n",
        "\n",
        "# Calculate evaluation metrics\n",
        "accuracy = accuracy_score(y_test, y_pred)\n",
        "recall = recall_score(y_test, y_pred, average='weighted')\n",
        "precision = precision_score(y_test, y_pred, average='weighted')\n",
        "f1 = f1_score(y_test, y_pred, average='weighted')\n",
        "\n",
        "# Print results\n",
        "print(f'Model Accuracy: {accuracy:.4f}')\n",
        "print(f'Recall: {recall:.4f}')\n",
        "print(f'Precision: {precision:.4f}')\n",
        "print(f'F1 Score: {f1:.4f}')\n",
        "print('Top 10 Hub Genes by Feature Importance:')\n",
        "print(feature_importances.head(10))\n"
      ]
    }
  ]
}