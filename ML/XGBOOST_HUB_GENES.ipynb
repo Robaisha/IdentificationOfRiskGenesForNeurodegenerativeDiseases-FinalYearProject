{
  "cells": [
    {
      "cell_type": "code",
      "execution_count": null,
      "metadata": {
        "colab": {
          "base_uri": "https://localhost:8080/"
        },
        "id": "XE3dLErVuF06",
        "outputId": "0c2899f6-6bc0-4088-91d4-b53424516236"
      },
      "outputs": [
        {
          "output_type": "stream",
          "name": "stdout",
          "text": [
            "Selected Features: Index(['ILMN_1343291', 'ILMN_1343295', 'ILMN_1651232', 'ILMN_1651237',\n",
            "       'ILMN_1651268', 'ILMN_1651281', 'ILMN_1651282', 'ILMN_1651288',\n",
            "       'ILMN_1651292', 'ILMN_1651303', 'ILMN_1651325', 'ILMN_1651336',\n",
            "       'ILMN_1651358', 'ILMN_1651364', 'ILMN_1651373', 'ILMN_1651378',\n",
            "       'ILMN_1651395', 'ILMN_1651403', 'ILMN_1651430', 'ILMN_1651433',\n",
            "       'ILMN_1651447', 'ILMN_1651464', 'ILMN_1651490', 'ILMN_1651496',\n",
            "       'ILMN_1651498', 'ILMN_1651557', 'ILMN_1651567', 'ILMN_1651569',\n",
            "       'ILMN_1651574', 'ILMN_1651576', 'ILMN_1651599', 'ILMN_1651606',\n",
            "       'ILMN_1651656', 'ILMN_1651672', 'ILMN_1651681', 'ILMN_1651699',\n",
            "       'ILMN_1651715', 'ILMN_1651719', 'ILMN_1651735', 'ILMN_1651776',\n",
            "       'ILMN_1651789', 'ILMN_1651792', 'ILMN_1651799', 'ILMN_1651817',\n",
            "       'ILMN_1651838', 'ILMN_1651848', 'ILMN_1651878', 'ILMN_1651958',\n",
            "       'ILMN_1652128', 'ILMN_1652164', 'ILMN_1652181', 'ILMN_1652218',\n",
            "       'ILMN_1652313', 'ILMN_1652333', 'ILMN_1652412', 'Age'],\n",
            "      dtype='object')\n",
            "Top Hub Genes:\n",
            "Age             0.052616\n",
            "ILMN_1651817    0.052329\n",
            "ILMN_1651699    0.035660\n",
            "ILMN_1651430    0.031304\n",
            "ILMN_1651433    0.030108\n",
            "ILMN_1651799    0.025989\n",
            "ILMN_1651776    0.025513\n",
            "ILMN_1651557    0.023404\n",
            "ILMN_1651958    0.023158\n",
            "ILMN_1651789    0.022607\n",
            "dtype: float32\n"
          ]
        },
        {
          "output_type": "stream",
          "name": "stderr",
          "text": [
            "/usr/local/lib/python3.10/dist-packages/sklearn/linear_model/_logistic.py:458: ConvergenceWarning: lbfgs failed to converge (status=1):\n",
            "STOP: TOTAL NO. of ITERATIONS REACHED LIMIT.\n",
            "\n",
            "Increase the number of iterations (max_iter) or scale the data as shown in:\n",
            "    https://scikit-learn.org/stable/modules/preprocessing.html\n",
            "Please also refer to the documentation for alternative solver options:\n",
            "    https://scikit-learn.org/stable/modules/linear_model.html#logistic-regression\n",
            "  n_iter_i = _check_optimize_result(\n"
          ]
        },
        {
          "output_type": "stream",
          "name": "stdout",
          "text": [
            "Model Accuracy: 0.8081\n",
            "Recall: 0.8081\n",
            "F1 Score: 0.8078\n"
          ]
        }
      ],
      "source": [
        "from imblearn.over_sampling import SMOTE\n",
        "from sklearn.feature_selection import RFECV\n",
        "from xgboost import XGBClassifier\n",
        "from sklearn.linear_model import LogisticRegression\n",
        "from sklearn.svm import SVC\n",
        "from sklearn.ensemble import VotingClassifier\n",
        "from sklearn.preprocessing import StandardScaler, LabelEncoder\n",
        "from sklearn.impute import SimpleImputer\n",
        "from sklearn.model_selection import train_test_split, StratifiedKFold\n",
        "from sklearn.metrics import accuracy_score, recall_score, f1_score\n",
        "import pandas as pd\n",
        "\n",
        "# Load data\n",
        "data = 'data_set.csv'\n",
        "df = pd.read_csv(data, header=0)\n",
        "X = df.drop(['ID_REF', '!Sample_source_name_ch1', 'Accession', 'Tissue Group', 'Tissue Group ID', 'Gender', 'Individual', 'Tissue', 'Disease state'], axis=1)\n",
        "y = df['Disease state']\n",
        "\n",
        "# Encoding categorical labels\n",
        "label_encoder = LabelEncoder()\n",
        "y_encoded = label_encoder.fit_transform(y)\n",
        "\n",
        "# Impute missing values\n",
        "imputer = SimpleImputer(strategy='median')\n",
        "X_imputed = imputer.fit_transform(X)\n",
        "X = pd.DataFrame(X_imputed, columns=X.columns)  # Convert back to DataFrame to keep column names\n",
        "\n",
        "# Data balancing with SMOTE\n",
        "smote = SMOTE(random_state=42)\n",
        "X_resampled, y_resampled = smote.fit_resample(X, y_encoded) # Use the encoded target variable\n",
        "\n",
        "# Train-test split\n",
        "X_train, X_test, y_train, y_test = train_test_split(X_resampled, y_resampled, test_size=0.2, random_state=42)\n",
        "\n",
        "# Feature selection using RFECV with XGBoost\n",
        "xgb_model = XGBClassifier(random_state=42)\n",
        "rfecv = RFECV(estimator=xgb_model, step=1, cv=StratifiedKFold(10), scoring='accuracy', min_features_to_select=5)\n",
        "X_train_selected = rfecv.fit_transform(X_train, y_train)\n",
        "X_test_selected = rfecv.transform(X_test)\n",
        "\n",
        "# Print selected features\n",
        "selected_features = X.columns[rfecv.support_]\n",
        "print(f\"Selected Features: {selected_features}\")\n",
        "\n",
        "# Train XGBoost model on selected features\n",
        "xgb_model.fit(X_train_selected, y_train)\n",
        "\n",
        "# Get feature importances (hub genes)\n",
        "feature_importances = pd.Series(xgb_model.feature_importances_, index=selected_features).sort_values(ascending=False)\n",
        "\n",
        "# Print top hub genes\n",
        "print('Top Hub Genes:')\n",
        "print(feature_importances.head(10))\n",
        "\n",
        "# Ensemble model using XGBoost as a base classifier\n",
        "lr = LogisticRegression(max_iter=1000)\n",
        "svm = SVC(probability=True)\n",
        "ensemble = VotingClassifier(estimators=[('lr', lr), ('xgb', xgb_model), ('svm', svm)], voting='soft')\n",
        "ensemble.fit(X_train_selected, y_train)\n",
        "\n",
        "# Predict\n",
        "y_pred = ensemble.predict(X_test_selected)\n",
        "\n",
        "# Calculate and print evaluation metrics\n",
        "accuracy = accuracy_score(y_test, y_pred)\n",
        "recall = recall_score(y_test, y_pred, average='weighted')\n",
        "f1 = f1_score(y_test, y_pred, average='weighted')\n",
        "\n",
        "print(f'Model Accuracy: {accuracy:.4f}')\n",
        "print(f'Recall: {recall:.4f}')\n",
        "print(f'F1 Score: {f1:.4f}')\n"
      ]
    }
  ],
  "metadata": {
    "colab": {
      "provenance": []
    },
    "kernelspec": {
      "display_name": "Python 3",
      "name": "python3"
    },
    "language_info": {
      "name": "python"
    }
  },
  "nbformat": 4,
  "nbformat_minor": 0
}